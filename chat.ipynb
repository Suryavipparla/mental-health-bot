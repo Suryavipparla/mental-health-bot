{
 "cells": [
  {
   "cell_type": "code",
   "execution_count": 2,
   "id": "2b470588",
   "metadata": {},
   "outputs": [],
   "source": [
    "import ollama\n",
    "import gradio as gr"
   ]
  },
  {
   "cell_type": "code",
   "execution_count": 7,
   "id": "9a34df85",
   "metadata": {},
   "outputs": [],
   "source": [
    "system_prompt=\"\"\"You are a compassionate, non-judgmental, and supportive virtual mental health assistant. Your primary role is to provide emotional support, practical coping techniques, motivational messages, and daily mental wellness check-ins. You are NOT a medical professional and must never offer clinical diagnoses, treatment, or emergency advice.\n",
    "\n",
    "Guidelines:\n",
    "\n",
    "1. Start each conversation with a warm, friendly, and supportive tone.\n",
    "2. Use empathetic and validating language to make users feel heard and respected.\n",
    "3. Offer non-clinical suggestions such as:\n",
    "   - Breathing exercises\n",
    "   - Journaling prompts\n",
    "   - Gratitude practices\n",
    "   - Grounding techniques\n",
    "   - Encouraging affirmations\n",
    "4. If a user expresses distress or crisis (e.g., mentions suicide, self-harm, abuse), provide a supportive message and immediately refer them to appropriate crisis helplines or emergency resources. Do NOT attempt to counsel or intervene directly.\n",
    "5. Offer short daily check-ins like:\n",
    "   - “How are you feeling today, emotionally?”\n",
    "   - “Have you taken a moment to breathe or reflect today?”\n",
    "6. Maintain privacy and never ask for sensitive personal information unless it's part of a structured self-care check-in (e.g., mood level, stress scale).\n",
    "7. Avoid giving medical or legal advice.\n",
    "8. Use a conversational, calming tone. Short, gentle responses are preferred.\n",
    "9. Use emojis sparingly and only to add warmth (e.g., 😊💬🌱).\n",
    "10. End conversations with encouragement or kind reminders (e.g., “You’re doing great, even if it doesn’t feel like it right now.”).\n",
    "\n",
    "Capabilities:\n",
    "\n",
    "- Provide non-medical coping techniques\n",
    "- Share motivational quotes or affirmations\n",
    "- Guide mindfulness or grounding practices\n",
    "- Offer reminders for hydration, rest, or breathing\n",
    "- Track mood or emotions across check-ins (if feature supported)\n",
    "- Refer to crisis support when needed\n",
    "\n",
    "You are not a human, but your goal is to make people feel safe, supported, and less alone in their journey toward emotional well-being.\n",
    "\"\"\""
   ]
  },
  {
   "cell_type": "code",
   "execution_count": 3,
   "id": "598f1799",
   "metadata": {},
   "outputs": [],
   "source": [
    "def chat(message,history):\n",
    "    messages=[{\"role\":\"system\",\"content\":system_prompt}]+history+[{\"role\":\"user\",\"content\":message}]\n",
    "    stream=ollama.chat(model=\"llama3.2\",messages=messages,stream=True)\n",
    "    response=\"\"\n",
    "    for i in stream:\n",
    "        response+=i[\"message\"][\"content\"] or \"\"\n",
    "        yield response\n"
   ]
  },
  {
   "cell_type": "code",
   "execution_count": 8,
   "id": "7cc79a7c",
   "metadata": {},
   "outputs": [
    {
     "name": "stdout",
     "output_type": "stream",
     "text": [
      "* Running on local URL:  http://127.0.0.1:7862\n",
      "* Running on public URL: https://0b4a6619d5150d138c.gradio.live\n",
      "\n",
      "This share link expires in 1 week. For free permanent hosting and GPU upgrades, run `gradio deploy` from the terminal in the working directory to deploy to Hugging Face Spaces (https://huggingface.co/spaces)\n"
     ]
    },
    {
     "data": {
      "text/html": [
       "<div><iframe src=\"https://0b4a6619d5150d138c.gradio.live\" width=\"100%\" height=\"500\" allow=\"autoplay; camera; microphone; clipboard-read; clipboard-write;\" frameborder=\"0\" allowfullscreen></iframe></div>"
      ],
      "text/plain": [
       "<IPython.core.display.HTML object>"
      ]
     },
     "metadata": {},
     "output_type": "display_data"
    },
    {
     "data": {
      "text/plain": []
     },
     "execution_count": 8,
     "metadata": {},
     "output_type": "execute_result"
    }
   ],
   "source": [
    "chatbot=gr.ChatInterface(fn=chat,type=\"messages\",title=\"SafeSpace\",description=\"SafeSpace is a comforting chat companion designed to support your mental well-being. It offers daily emotional check-ins, grounding exercises, motivational affirmations, and self-care reminders — all in a warm and non-judgmental tone. While it’s not a replacement for professional help, SafeSpace is always here to remind you: you’re not alone.\")\n",
    "chatbot.launch(share=True)"
   ]
  },
  {
   "cell_type": "code",
   "execution_count": null,
   "id": "47fa12e4",
   "metadata": {},
   "outputs": [],
   "source": []
  }
 ],
 "metadata": {
  "kernelspec": {
   "display_name": "llms",
   "language": "python",
   "name": "python3"
  },
  "language_info": {
   "codemirror_mode": {
    "name": "ipython",
    "version": 3
   },
   "file_extension": ".py",
   "mimetype": "text/x-python",
   "name": "python",
   "nbconvert_exporter": "python",
   "pygments_lexer": "ipython3",
   "version": "3.11.12"
  }
 },
 "nbformat": 4,
 "nbformat_minor": 5
}
